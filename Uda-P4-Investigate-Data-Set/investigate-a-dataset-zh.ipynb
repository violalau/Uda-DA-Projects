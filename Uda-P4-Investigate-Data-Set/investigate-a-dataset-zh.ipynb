{
 "cells": [
  {
   "cell_type": "markdown",
   "metadata": {},
   "source": [
    "\n",
    "# 项目：探索数据集-Gapminder World\n",
    "\n",
    "## 目录\n",
    "<ul>\n",
    "<li><a href=\"#intro\">简介</a></li>\n",
    "<li><a href=\"#wrangling\">数据整理</a></li>\n",
    "<li><a href=\"#eda\">探索性数据分析</a></li>\n",
    "<li><a href=\"#conclusions\">结论</a></li>\n",
    "</ul>\n",
    "\n",
    "<a id='intro'></a>\n",
    "## 简介\n",
    "\n",
    "> Gapminder是一个非营利性组织，其建立旨在了解各个地区与国家在社会、经济和环境发展的统计数据与其他信息。通过使用Gapminder进行数据探索，可以有效地展示国家之间的发展差距。  \n",
    "在本项目中，将使用Gapminder的数据，探索中国的GDP增长率、城市化发展程度、就业率、农业就业人口比例、教育程度之间是否变化如何。"
   ]
  },
  {
   "cell_type": "code",
   "execution_count": 1,
   "metadata": {},
   "outputs": [],
   "source": [
    "#导入语句\n",
    "import numpy as np\n",
    "import pandas as pd \n",
    "%matplotlib inline\n",
    "import matplotlib.pyplot as plt\n",
    "\n",
    "#加载数据\n",
    "#gpd年度总增长率\n",
    "gdp_year = pd.read_csv('gdp_total_yearly_growth.csv')\n",
    "#人均国内生产总值（以美元为单位，通货膨胀调整后）\n",
    "gdp_per_cap = pd.read_csv('gdppercapita_us_inflation_adjusted.csv')\n",
    "#农业就业者占总就业人口比例\n",
    "agri_total_per = pd.read_csv('agriculture_workers_percent_of_employment.csv')\n",
    "#女性农业就业者占总女性就业人口比例\n",
    "female_agri_per = pd.read_csv('female_agriculture_workers_percent_of_female_employment.csv')\n",
    "#男性农业就业者占总女性就业人口比例\n",
    "male_agri_per = pd.read_csv('male_agriculture_workers_percent_of_male_employment.csv')\n",
    "#城镇人口占总人口百分比\n",
    "urban_p_total_per = pd.read_csv('urban_population_percent_of_total.csv')\n",
    "#成人（15周岁以上含15周岁）识字率\n",
    "literacy_adult_per = pd.read_csv('literacy_rate_adult_total_percent_of_people_ages_15_and_above.csv')"
   ]
  },
  {
   "cell_type": "markdown",
   "metadata": {},
   "source": [
    "<a id='wrangling'></a>\n",
    "## 数据整理\n",
    "\n",
    "### 合并数据集\n",
    ">由于分析的主体是中国，需要先提取各个数据集中列为China的行，并为每个数据集添加一列type对数据进行备注"
   ]
  },
  {
   "cell_type": "code",
   "execution_count": 2,
   "metadata": {},
   "outputs": [],
   "source": [
    "def set_df_type(df,type_value):\n",
    "    df = df.query('country == \"China\"')\n",
    "    df['type'] = type_value\n",
    "    df = df.set_index(['type'])\n",
    "    return df"
   ]
  },
  {
   "cell_type": "code",
   "execution_count": 3,
   "metadata": {},
   "outputs": [
    {
     "name": "stderr",
     "output_type": "stream",
     "text": [
      "D:\\Anaconda3\\lib\\site-packages\\ipykernel_launcher.py:3: SettingWithCopyWarning: \n",
      "A value is trying to be set on a copy of a slice from a DataFrame.\n",
      "Try using .loc[row_indexer,col_indexer] = value instead\n",
      "\n",
      "See the caveats in the documentation: http://pandas.pydata.org/pandas-docs/stable/indexing.html#indexing-view-versus-copy\n",
      "  This is separate from the ipykernel package so we can avoid doing imports until\n"
     ]
    }
   ],
   "source": [
    "gdp_year = set_df_type(gdp_year, 'gdp_year')\n",
    "gdp_per_cap = set_df_type(gdp_per_cap,'gdp_per_cap')\n",
    "agri_total_per = set_df_type(agri_total_per, 'agri_total_per')\n",
    "female_agri_per = set_df_type(female_agri_per, 'female_agri_per')\n",
    "male_agri_per = set_df_type(male_agri_per, 'male_agri_per')\n",
    "urban_p_total_per = set_df_type(urban_p_total_per, 'urban_p_total_per')\n",
    "literacy_adult_per = set_df_type(literacy_adult_per, 'literacy_adult_per')"
   ]
  },
  {
   "cell_type": "markdown",
   "metadata": {},
   "source": [
    "### 常规属性"
   ]
  },
  {
   "cell_type": "markdown",
   "metadata": {},
   "source": [
    "在这一部分，将会查看整理后的各个数据集的数据类型是否正确，并检查每个数据集的年份是否一致。"
   ]
  },
  {
   "cell_type": "code",
   "execution_count": 4,
   "metadata": {},
   "outputs": [
    {
     "name": "stdout",
     "output_type": "stream",
     "text": [
      "<class 'pandas.core.frame.DataFrame'>\n",
      "Index: 1 entries, gdp_year to gdp_year\n",
      "Columns: 214 entries, country to 2013\n",
      "dtypes: float64(213), object(1)\n",
      "memory usage: 1.7+ KB\n"
     ]
    }
   ],
   "source": [
    "gdp_year.info()"
   ]
  },
  {
   "cell_type": "markdown",
   "metadata": {},
   "source": [
    "GPD年度总增长率的数据描述，共有214列，从country列到2013列，其中country列数据类型为object，其他列数据类型为浮点数"
   ]
  },
  {
   "cell_type": "code",
   "execution_count": 5,
   "metadata": {},
   "outputs": [
    {
     "data": {
      "text/html": [
       "<div>\n",
       "<style scoped>\n",
       "    .dataframe tbody tr th:only-of-type {\n",
       "        vertical-align: middle;\n",
       "    }\n",
       "\n",
       "    .dataframe tbody tr th {\n",
       "        vertical-align: top;\n",
       "    }\n",
       "\n",
       "    .dataframe thead th {\n",
       "        text-align: right;\n",
       "    }\n",
       "</style>\n",
       "<table border=\"1\" class=\"dataframe\">\n",
       "  <thead>\n",
       "    <tr style=\"text-align: right;\">\n",
       "      <th></th>\n",
       "      <th>country</th>\n",
       "      <th>1801</th>\n",
       "      <th>1802</th>\n",
       "      <th>1803</th>\n",
       "      <th>1804</th>\n",
       "      <th>1805</th>\n",
       "      <th>1806</th>\n",
       "      <th>1807</th>\n",
       "      <th>1808</th>\n",
       "      <th>1809</th>\n",
       "      <th>...</th>\n",
       "      <th>2004</th>\n",
       "      <th>2005</th>\n",
       "      <th>2006</th>\n",
       "      <th>2007</th>\n",
       "      <th>2008</th>\n",
       "      <th>2009</th>\n",
       "      <th>2010</th>\n",
       "      <th>2011</th>\n",
       "      <th>2012</th>\n",
       "      <th>2013</th>\n",
       "    </tr>\n",
       "    <tr>\n",
       "      <th>type</th>\n",
       "      <th></th>\n",
       "      <th></th>\n",
       "      <th></th>\n",
       "      <th></th>\n",
       "      <th></th>\n",
       "      <th></th>\n",
       "      <th></th>\n",
       "      <th></th>\n",
       "      <th></th>\n",
       "      <th></th>\n",
       "      <th></th>\n",
       "      <th></th>\n",
       "      <th></th>\n",
       "      <th></th>\n",
       "      <th></th>\n",
       "      <th></th>\n",
       "      <th></th>\n",
       "      <th></th>\n",
       "      <th></th>\n",
       "      <th></th>\n",
       "      <th></th>\n",
       "    </tr>\n",
       "  </thead>\n",
       "  <tbody>\n",
       "    <tr>\n",
       "      <th>gdp_year</th>\n",
       "      <td>China</td>\n",
       "      <td>0.837</td>\n",
       "      <td>0.837</td>\n",
       "      <td>0.837</td>\n",
       "      <td>0.837</td>\n",
       "      <td>0.837</td>\n",
       "      <td>0.837</td>\n",
       "      <td>0.837</td>\n",
       "      <td>0.837</td>\n",
       "      <td>0.837</td>\n",
       "      <td>...</td>\n",
       "      <td>10.2</td>\n",
       "      <td>10.1</td>\n",
       "      <td>12.4</td>\n",
       "      <td>11.2</td>\n",
       "      <td>2.2</td>\n",
       "      <td>7.5</td>\n",
       "      <td>7.34</td>\n",
       "      <td>5.56</td>\n",
       "      <td>7.6</td>\n",
       "      <td>7.6</td>\n",
       "    </tr>\n",
       "  </tbody>\n",
       "</table>\n",
       "<p>1 rows × 214 columns</p>\n",
       "</div>"
      ],
      "text/plain": [
       "         country   1801   1802   1803   1804   1805   1806   1807   1808  \\\n",
       "type                                                                       \n",
       "gdp_year   China  0.837  0.837  0.837  0.837  0.837  0.837  0.837  0.837   \n",
       "\n",
       "           1809  ...  2004  2005  2006  2007  2008  2009  2010  2011  2012  \\\n",
       "type             ...                                                         \n",
       "gdp_year  0.837  ...  10.2  10.1  12.4  11.2   2.2   7.5  7.34  5.56   7.6   \n",
       "\n",
       "          2013  \n",
       "type            \n",
       "gdp_year   7.6  \n",
       "\n",
       "[1 rows x 214 columns]"
      ]
     },
     "execution_count": 5,
     "metadata": {},
     "output_type": "execute_result"
    }
   ],
   "source": [
    "gdp_year"
   ]
  },
  {
   "cell_type": "markdown",
   "metadata": {},
   "source": [
    ">查看GDP年度总增长率的数据，可见数据从1801年开始，到2013年结束"
   ]
  },
  {
   "cell_type": "code",
   "execution_count": 6,
   "metadata": {},
   "outputs": [
    {
     "name": "stdout",
     "output_type": "stream",
     "text": [
      "<class 'pandas.core.frame.DataFrame'>\n",
      "Index: 1 entries, gdp_per_cap to gdp_per_cap\n",
      "Data columns (total 59 columns):\n",
      "country    1 non-null object\n",
      "1960       1 non-null float64\n",
      "1961       1 non-null float64\n",
      "1962       1 non-null float64\n",
      "1963       1 non-null float64\n",
      "1964       1 non-null float64\n",
      "1965       1 non-null float64\n",
      "1966       1 non-null float64\n",
      "1967       1 non-null float64\n",
      "1968       1 non-null float64\n",
      "1969       1 non-null float64\n",
      "1970       1 non-null float64\n",
      "1971       1 non-null float64\n",
      "1972       1 non-null float64\n",
      "1973       1 non-null float64\n",
      "1974       1 non-null float64\n",
      "1975       1 non-null float64\n",
      "1976       1 non-null float64\n",
      "1977       1 non-null float64\n",
      "1978       1 non-null float64\n",
      "1979       1 non-null float64\n",
      "1980       1 non-null float64\n",
      "1981       1 non-null float64\n",
      "1982       1 non-null float64\n",
      "1983       1 non-null float64\n",
      "1984       1 non-null float64\n",
      "1985       1 non-null float64\n",
      "1986       1 non-null float64\n",
      "1987       1 non-null float64\n",
      "1988       1 non-null float64\n",
      "1989       1 non-null float64\n",
      "1990       1 non-null float64\n",
      "1991       1 non-null float64\n",
      "1992       1 non-null float64\n",
      "1993       1 non-null float64\n",
      "1994       1 non-null float64\n",
      "1995       1 non-null float64\n",
      "1996       1 non-null float64\n",
      "1997       1 non-null float64\n",
      "1998       1 non-null float64\n",
      "1999       1 non-null float64\n",
      "2000       1 non-null float64\n",
      "2001       1 non-null float64\n",
      "2002       1 non-null float64\n",
      "2003       1 non-null float64\n",
      "2004       1 non-null float64\n",
      "2005       1 non-null float64\n",
      "2006       1 non-null float64\n",
      "2007       1 non-null float64\n",
      "2008       1 non-null float64\n",
      "2009       1 non-null float64\n",
      "2010       1 non-null int64\n",
      "2011       1 non-null float64\n",
      "2012       1 non-null float64\n",
      "2013       1 non-null float64\n",
      "2014       1 non-null float64\n",
      "2015       1 non-null float64\n",
      "2016       1 non-null float64\n",
      "2017       1 non-null float64\n",
      "dtypes: float64(57), int64(1), object(1)\n",
      "memory usage: 480.0+ bytes\n"
     ]
    }
   ],
   "source": [
    "gdp_per_cap.info()"
   ]
  },
  {
   "cell_type": "markdown",
   "metadata": {},
   "source": [
    "人均国内生产总值的数据描述，共有59列，从country列到2017列，其中country列数据类型为object，2010列为整数，其他列数据类型为浮点数"
   ]
  },
  {
   "cell_type": "code",
   "execution_count": 7,
   "metadata": {},
   "outputs": [
    {
     "data": {
      "text/html": [
       "<div>\n",
       "<style scoped>\n",
       "    .dataframe tbody tr th:only-of-type {\n",
       "        vertical-align: middle;\n",
       "    }\n",
       "\n",
       "    .dataframe tbody tr th {\n",
       "        vertical-align: top;\n",
       "    }\n",
       "\n",
       "    .dataframe thead th {\n",
       "        text-align: right;\n",
       "    }\n",
       "</style>\n",
       "<table border=\"1\" class=\"dataframe\">\n",
       "  <thead>\n",
       "    <tr style=\"text-align: right;\">\n",
       "      <th></th>\n",
       "      <th>country</th>\n",
       "      <th>1960</th>\n",
       "      <th>1961</th>\n",
       "      <th>1962</th>\n",
       "      <th>1963</th>\n",
       "      <th>1964</th>\n",
       "      <th>1965</th>\n",
       "      <th>1966</th>\n",
       "      <th>1967</th>\n",
       "      <th>1968</th>\n",
       "      <th>...</th>\n",
       "      <th>2008</th>\n",
       "      <th>2009</th>\n",
       "      <th>2010</th>\n",
       "      <th>2011</th>\n",
       "      <th>2012</th>\n",
       "      <th>2013</th>\n",
       "      <th>2014</th>\n",
       "      <th>2015</th>\n",
       "      <th>2016</th>\n",
       "      <th>2017</th>\n",
       "    </tr>\n",
       "    <tr>\n",
       "      <th>type</th>\n",
       "      <th></th>\n",
       "      <th></th>\n",
       "      <th></th>\n",
       "      <th></th>\n",
       "      <th></th>\n",
       "      <th></th>\n",
       "      <th></th>\n",
       "      <th></th>\n",
       "      <th></th>\n",
       "      <th></th>\n",
       "      <th></th>\n",
       "      <th></th>\n",
       "      <th></th>\n",
       "      <th></th>\n",
       "      <th></th>\n",
       "      <th></th>\n",
       "      <th></th>\n",
       "      <th></th>\n",
       "      <th></th>\n",
       "      <th></th>\n",
       "      <th></th>\n",
       "    </tr>\n",
       "  </thead>\n",
       "  <tbody>\n",
       "    <tr>\n",
       "      <th>gdp_per_cap</th>\n",
       "      <td>China</td>\n",
       "      <td>192.0</td>\n",
       "      <td>141.0</td>\n",
       "      <td>132.0</td>\n",
       "      <td>142.0</td>\n",
       "      <td>164.0</td>\n",
       "      <td>187.0</td>\n",
       "      <td>202.0</td>\n",
       "      <td>185.0</td>\n",
       "      <td>173.0</td>\n",
       "      <td>...</td>\n",
       "      <td>3810.0</td>\n",
       "      <td>4140.0</td>\n",
       "      <td>4560</td>\n",
       "      <td>4970.0</td>\n",
       "      <td>5340.0</td>\n",
       "      <td>5720.0</td>\n",
       "      <td>6110.0</td>\n",
       "      <td>6500.0</td>\n",
       "      <td>6890.0</td>\n",
       "      <td>7330.0</td>\n",
       "    </tr>\n",
       "  </tbody>\n",
       "</table>\n",
       "<p>1 rows × 59 columns</p>\n",
       "</div>"
      ],
      "text/plain": [
       "            country   1960   1961   1962   1963   1964   1965   1966   1967  \\\n",
       "type                                                                          \n",
       "gdp_per_cap   China  192.0  141.0  132.0  142.0  164.0  187.0  202.0  185.0   \n",
       "\n",
       "              1968  ...    2008    2009  2010    2011    2012    2013    2014  \\\n",
       "type                ...                                                         \n",
       "gdp_per_cap  173.0  ...  3810.0  4140.0  4560  4970.0  5340.0  5720.0  6110.0   \n",
       "\n",
       "               2015    2016    2017  \n",
       "type                                 \n",
       "gdp_per_cap  6500.0  6890.0  7330.0  \n",
       "\n",
       "[1 rows x 59 columns]"
      ]
     },
     "execution_count": 7,
     "metadata": {},
     "output_type": "execute_result"
    }
   ],
   "source": [
    "gdp_per_cap"
   ]
  },
  {
   "cell_type": "markdown",
   "metadata": {},
   "source": [
    ">查看人均国内生产总值的数据，可见数据从1960年开始，至2017年结束"
   ]
  },
  {
   "cell_type": "code",
   "execution_count": 8,
   "metadata": {},
   "outputs": [
    {
     "name": "stdout",
     "output_type": "stream",
     "text": [
      "<class 'pandas.core.frame.DataFrame'>\n",
      "Index: 1 entries, agri_total_per to agri_total_per\n",
      "Data columns (total 49 columns):\n",
      "country    1 non-null object\n",
      "1970       1 non-null float64\n",
      "1971       0 non-null float64\n",
      "1972       0 non-null float64\n",
      "1973       0 non-null float64\n",
      "1974       0 non-null float64\n",
      "1975       1 non-null float64\n",
      "1976       0 non-null float64\n",
      "1977       0 non-null float64\n",
      "1978       1 non-null float64\n",
      "1979       1 non-null float64\n",
      "1980       1 non-null float64\n",
      "1981       1 non-null float64\n",
      "1982       1 non-null float64\n",
      "1983       1 non-null float64\n",
      "1984       1 non-null float64\n",
      "1985       1 non-null float64\n",
      "1986       1 non-null float64\n",
      "1987       1 non-null float64\n",
      "1988       1 non-null float64\n",
      "1989       1 non-null float64\n",
      "1990       1 non-null float64\n",
      "1991       1 non-null float64\n",
      "1992       1 non-null float64\n",
      "1993       1 non-null float64\n",
      "1994       1 non-null float64\n",
      "1995       1 non-null float64\n",
      "1996       1 non-null float64\n",
      "1997       1 non-null float64\n",
      "1998       1 non-null float64\n",
      "1999       1 non-null float64\n",
      "2000       1 non-null float64\n",
      "2001       1 non-null float64\n",
      "2002       1 non-null float64\n",
      "2003       1 non-null float64\n",
      "2004       1 non-null float64\n",
      "2005       1 non-null float64\n",
      "2006       1 non-null float64\n",
      "2007       1 non-null float64\n",
      "2008       1 non-null float64\n",
      "2009       1 non-null float64\n",
      "2010       1 non-null float64\n",
      "2011       1 non-null float64\n",
      "2012       1 non-null float64\n",
      "2013       1 non-null float64\n",
      "2014       1 non-null float64\n",
      "2015       1 non-null float64\n",
      "2016       1 non-null float64\n",
      "2017       1 non-null float64\n",
      "dtypes: float64(48), object(1)\n",
      "memory usage: 400.0+ bytes\n"
     ]
    }
   ],
   "source": [
    "agri_total_per.info()"
   ]
  },
  {
   "cell_type": "markdown",
   "metadata": {},
   "source": [
    ">农业就业者占人口比例的数据描述，共有49列，从country列到2017列，其中country列数据类型为object，其他列数据类型为浮点数"
   ]
  },
  {
   "cell_type": "code",
   "execution_count": 9,
   "metadata": {},
   "outputs": [
    {
     "data": {
      "text/html": [
       "<div>\n",
       "<style scoped>\n",
       "    .dataframe tbody tr th:only-of-type {\n",
       "        vertical-align: middle;\n",
       "    }\n",
       "\n",
       "    .dataframe tbody tr th {\n",
       "        vertical-align: top;\n",
       "    }\n",
       "\n",
       "    .dataframe thead th {\n",
       "        text-align: right;\n",
       "    }\n",
       "</style>\n",
       "<table border=\"1\" class=\"dataframe\">\n",
       "  <thead>\n",
       "    <tr style=\"text-align: right;\">\n",
       "      <th></th>\n",
       "      <th>country</th>\n",
       "      <th>1970</th>\n",
       "      <th>1971</th>\n",
       "      <th>1972</th>\n",
       "      <th>1973</th>\n",
       "      <th>1974</th>\n",
       "      <th>1975</th>\n",
       "      <th>1976</th>\n",
       "      <th>1977</th>\n",
       "      <th>1978</th>\n",
       "      <th>...</th>\n",
       "      <th>2008</th>\n",
       "      <th>2009</th>\n",
       "      <th>2010</th>\n",
       "      <th>2011</th>\n",
       "      <th>2012</th>\n",
       "      <th>2013</th>\n",
       "      <th>2014</th>\n",
       "      <th>2015</th>\n",
       "      <th>2016</th>\n",
       "      <th>2017</th>\n",
       "    </tr>\n",
       "    <tr>\n",
       "      <th>type</th>\n",
       "      <th></th>\n",
       "      <th></th>\n",
       "      <th></th>\n",
       "      <th></th>\n",
       "      <th></th>\n",
       "      <th></th>\n",
       "      <th></th>\n",
       "      <th></th>\n",
       "      <th></th>\n",
       "      <th></th>\n",
       "      <th></th>\n",
       "      <th></th>\n",
       "      <th></th>\n",
       "      <th></th>\n",
       "      <th></th>\n",
       "      <th></th>\n",
       "      <th></th>\n",
       "      <th></th>\n",
       "      <th></th>\n",
       "      <th></th>\n",
       "      <th></th>\n",
       "    </tr>\n",
       "  </thead>\n",
       "  <tbody>\n",
       "    <tr>\n",
       "      <th>agri_total_per</th>\n",
       "      <td>China</td>\n",
       "      <td>80.8</td>\n",
       "      <td>NaN</td>\n",
       "      <td>NaN</td>\n",
       "      <td>NaN</td>\n",
       "      <td>NaN</td>\n",
       "      <td>77.2</td>\n",
       "      <td>NaN</td>\n",
       "      <td>NaN</td>\n",
       "      <td>70.5</td>\n",
       "      <td>...</td>\n",
       "      <td>39.6</td>\n",
       "      <td>38.1</td>\n",
       "      <td>36.7</td>\n",
       "      <td>34.8</td>\n",
       "      <td>33.6</td>\n",
       "      <td>31.4</td>\n",
       "      <td>29.5</td>\n",
       "      <td>28.3</td>\n",
       "      <td>27.7</td>\n",
       "      <td>27.0</td>\n",
       "    </tr>\n",
       "  </tbody>\n",
       "</table>\n",
       "<p>1 rows × 49 columns</p>\n",
       "</div>"
      ],
      "text/plain": [
       "               country  1970  1971  1972  1973  1974  1975  1976  1977  1978  \\\n",
       "type                                                                           \n",
       "agri_total_per   China  80.8   NaN   NaN   NaN   NaN  77.2   NaN   NaN  70.5   \n",
       "\n",
       "                ...  2008  2009  2010  2011  2012  2013  2014  2015  2016  \\\n",
       "type            ...                                                         \n",
       "agri_total_per  ...  39.6  38.1  36.7  34.8  33.6  31.4  29.5  28.3  27.7   \n",
       "\n",
       "                2017  \n",
       "type                  \n",
       "agri_total_per  27.0  \n",
       "\n",
       "[1 rows x 49 columns]"
      ]
     },
     "execution_count": 9,
     "metadata": {},
     "output_type": "execute_result"
    }
   ],
   "source": [
    "agri_total_per"
   ]
  },
  {
   "cell_type": "markdown",
   "metadata": {},
   "source": [
    "查看农业就业者占总人口比例数据，可见数据从1970年开始，至2017年结束"
   ]
  },
  {
   "cell_type": "code",
   "execution_count": 10,
   "metadata": {},
   "outputs": [
    {
     "name": "stdout",
     "output_type": "stream",
     "text": [
      "<class 'pandas.core.frame.DataFrame'>\n",
      "Index: 1 entries, female_agri_per to female_agri_per\n",
      "Data columns (total 33 columns):\n",
      "country    1 non-null object\n",
      "1991       1 non-null float64\n",
      "1992       1 non-null float64\n",
      "1993       1 non-null float64\n",
      "1994       1 non-null float64\n",
      "1995       1 non-null float64\n",
      "1996       1 non-null float64\n",
      "1997       1 non-null float64\n",
      "1998       1 non-null float64\n",
      "1999       1 non-null float64\n",
      "2000       1 non-null float64\n",
      "2001       1 non-null float64\n",
      "2002       1 non-null float64\n",
      "2003       1 non-null float64\n",
      "2004       1 non-null float64\n",
      "2005       1 non-null float64\n",
      "2006       1 non-null float64\n",
      "2007       1 non-null float64\n",
      "2008       1 non-null float64\n",
      "2009       1 non-null float64\n",
      "2010       1 non-null float64\n",
      "2011       1 non-null float64\n",
      "2012       1 non-null float64\n",
      "2013       1 non-null float64\n",
      "2014       1 non-null float64\n",
      "2015       1 non-null float64\n",
      "2016       1 non-null float64\n",
      "2017       1 non-null float64\n",
      "2018       1 non-null float64\n",
      "2019       1 non-null float64\n",
      "2020       1 non-null float64\n",
      "2021       1 non-null float64\n",
      "2022       1 non-null float64\n",
      "dtypes: float64(32), object(1)\n",
      "memory usage: 272.0+ bytes\n"
     ]
    }
   ],
   "source": [
    "female_agri_per.info()"
   ]
  },
  {
   "cell_type": "markdown",
   "metadata": {},
   "source": [
    "女性农业就业者占总女性就业人口比例的数据描述，共有33列，从country列到2022列，其中country列数据类型为object，其他列数据类型为浮点数"
   ]
  },
  {
   "cell_type": "code",
   "execution_count": 11,
   "metadata": {},
   "outputs": [
    {
     "data": {
      "text/html": [
       "<div>\n",
       "<style scoped>\n",
       "    .dataframe tbody tr th:only-of-type {\n",
       "        vertical-align: middle;\n",
       "    }\n",
       "\n",
       "    .dataframe tbody tr th {\n",
       "        vertical-align: top;\n",
       "    }\n",
       "\n",
       "    .dataframe thead th {\n",
       "        text-align: right;\n",
       "    }\n",
       "</style>\n",
       "<table border=\"1\" class=\"dataframe\">\n",
       "  <thead>\n",
       "    <tr style=\"text-align: right;\">\n",
       "      <th></th>\n",
       "      <th>country</th>\n",
       "      <th>1991</th>\n",
       "      <th>1992</th>\n",
       "      <th>1993</th>\n",
       "      <th>1994</th>\n",
       "      <th>1995</th>\n",
       "      <th>1996</th>\n",
       "      <th>1997</th>\n",
       "      <th>1998</th>\n",
       "      <th>1999</th>\n",
       "      <th>...</th>\n",
       "      <th>2013</th>\n",
       "      <th>2014</th>\n",
       "      <th>2015</th>\n",
       "      <th>2016</th>\n",
       "      <th>2017</th>\n",
       "      <th>2018</th>\n",
       "      <th>2019</th>\n",
       "      <th>2020</th>\n",
       "      <th>2021</th>\n",
       "      <th>2022</th>\n",
       "    </tr>\n",
       "    <tr>\n",
       "      <th>type</th>\n",
       "      <th></th>\n",
       "      <th></th>\n",
       "      <th></th>\n",
       "      <th></th>\n",
       "      <th></th>\n",
       "      <th></th>\n",
       "      <th></th>\n",
       "      <th></th>\n",
       "      <th></th>\n",
       "      <th></th>\n",
       "      <th></th>\n",
       "      <th></th>\n",
       "      <th></th>\n",
       "      <th></th>\n",
       "      <th></th>\n",
       "      <th></th>\n",
       "      <th></th>\n",
       "      <th></th>\n",
       "      <th></th>\n",
       "      <th></th>\n",
       "      <th></th>\n",
       "    </tr>\n",
       "  </thead>\n",
       "  <tbody>\n",
       "    <tr>\n",
       "      <th>female_agri_per</th>\n",
       "      <td>China</td>\n",
       "      <td>56.3</td>\n",
       "      <td>55.0</td>\n",
       "      <td>53.1</td>\n",
       "      <td>52.5</td>\n",
       "      <td>51.7</td>\n",
       "      <td>50.8</td>\n",
       "      <td>49.9</td>\n",
       "      <td>49.5</td>\n",
       "      <td>48.5</td>\n",
       "      <td>...</td>\n",
       "      <td>25.4</td>\n",
       "      <td>24.1</td>\n",
       "      <td>22.8</td>\n",
       "      <td>21.4</td>\n",
       "      <td>20.5</td>\n",
       "      <td>19.3</td>\n",
       "      <td>18.2</td>\n",
       "      <td>17.1</td>\n",
       "      <td>16.2</td>\n",
       "      <td>15.2</td>\n",
       "    </tr>\n",
       "  </tbody>\n",
       "</table>\n",
       "<p>1 rows × 33 columns</p>\n",
       "</div>"
      ],
      "text/plain": [
       "                country  1991  1992  1993  1994  1995  1996  1997  1998  1999  \\\n",
       "type                                                                            \n",
       "female_agri_per   China  56.3  55.0  53.1  52.5  51.7  50.8  49.9  49.5  48.5   \n",
       "\n",
       "                 ...  2013  2014  2015  2016  2017  2018  2019  2020  2021  \\\n",
       "type             ...                                                         \n",
       "female_agri_per  ...  25.4  24.1  22.8  21.4  20.5  19.3  18.2  17.1  16.2   \n",
       "\n",
       "                 2022  \n",
       "type                   \n",
       "female_agri_per  15.2  \n",
       "\n",
       "[1 rows x 33 columns]"
      ]
     },
     "execution_count": 11,
     "metadata": {},
     "output_type": "execute_result"
    }
   ],
   "source": [
    "female_agri_per"
   ]
  },
  {
   "cell_type": "markdown",
   "metadata": {},
   "source": [
    "查看女性农业就业者占总女性就业人口比例的数据，可见数据从1991年开始，到2022年结束   \n",
    "数据源显示，2018年以后数据均为预测"
   ]
  },
  {
   "cell_type": "code",
   "execution_count": 12,
   "metadata": {},
   "outputs": [
    {
     "name": "stdout",
     "output_type": "stream",
     "text": [
      "<class 'pandas.core.frame.DataFrame'>\n",
      "Index: 1 entries, male_agri_per to male_agri_per\n",
      "Data columns (total 33 columns):\n",
      "country    1 non-null object\n",
      "1991       1 non-null float64\n",
      "1992       1 non-null float64\n",
      "1993       1 non-null float64\n",
      "1994       1 non-null float64\n",
      "1995       1 non-null float64\n",
      "1996       1 non-null float64\n",
      "1997       1 non-null float64\n",
      "1998       1 non-null float64\n",
      "1999       1 non-null float64\n",
      "2000       1 non-null float64\n",
      "2001       1 non-null float64\n",
      "2002       1 non-null float64\n",
      "2003       1 non-null float64\n",
      "2004       1 non-null float64\n",
      "2005       1 non-null float64\n",
      "2006       1 non-null float64\n",
      "2007       1 non-null float64\n",
      "2008       1 non-null float64\n",
      "2009       1 non-null float64\n",
      "2010       1 non-null float64\n",
      "2011       1 non-null float64\n",
      "2012       1 non-null float64\n",
      "2013       1 non-null float64\n",
      "2014       1 non-null float64\n",
      "2015       1 non-null float64\n",
      "2016       1 non-null float64\n",
      "2017       1 non-null float64\n",
      "2018       1 non-null float64\n",
      "2019       1 non-null float64\n",
      "2020       1 non-null float64\n",
      "2021       1 non-null float64\n",
      "2022       1 non-null float64\n",
      "dtypes: float64(32), object(1)\n",
      "memory usage: 272.0+ bytes\n"
     ]
    }
   ],
   "source": [
    "male_agri_per.info()"
   ]
  },
  {
   "cell_type": "markdown",
   "metadata": {},
   "source": [
    "男性农业就业者占总男性就业人口比例的数据描述，共有33列，从country列到2022列，其中country列数据类型为object，其他列数据类型为浮点数"
   ]
  },
  {
   "cell_type": "code",
   "execution_count": 13,
   "metadata": {},
   "outputs": [
    {
     "data": {
      "text/html": [
       "<div>\n",
       "<style scoped>\n",
       "    .dataframe tbody tr th:only-of-type {\n",
       "        vertical-align: middle;\n",
       "    }\n",
       "\n",
       "    .dataframe tbody tr th {\n",
       "        vertical-align: top;\n",
       "    }\n",
       "\n",
       "    .dataframe thead th {\n",
       "        text-align: right;\n",
       "    }\n",
       "</style>\n",
       "<table border=\"1\" class=\"dataframe\">\n",
       "  <thead>\n",
       "    <tr style=\"text-align: right;\">\n",
       "      <th></th>\n",
       "      <th>country</th>\n",
       "      <th>1991</th>\n",
       "      <th>1992</th>\n",
       "      <th>1993</th>\n",
       "      <th>1994</th>\n",
       "      <th>1995</th>\n",
       "      <th>1996</th>\n",
       "      <th>1997</th>\n",
       "      <th>1998</th>\n",
       "      <th>1999</th>\n",
       "      <th>...</th>\n",
       "      <th>2013</th>\n",
       "      <th>2014</th>\n",
       "      <th>2015</th>\n",
       "      <th>2016</th>\n",
       "      <th>2017</th>\n",
       "      <th>2018</th>\n",
       "      <th>2019</th>\n",
       "      <th>2020</th>\n",
       "      <th>2021</th>\n",
       "      <th>2022</th>\n",
       "    </tr>\n",
       "    <tr>\n",
       "      <th>type</th>\n",
       "      <th></th>\n",
       "      <th></th>\n",
       "      <th></th>\n",
       "      <th></th>\n",
       "      <th></th>\n",
       "      <th></th>\n",
       "      <th></th>\n",
       "      <th></th>\n",
       "      <th></th>\n",
       "      <th></th>\n",
       "      <th></th>\n",
       "      <th></th>\n",
       "      <th></th>\n",
       "      <th></th>\n",
       "      <th></th>\n",
       "      <th></th>\n",
       "      <th></th>\n",
       "      <th></th>\n",
       "      <th></th>\n",
       "      <th></th>\n",
       "      <th></th>\n",
       "    </tr>\n",
       "  </thead>\n",
       "  <tbody>\n",
       "    <tr>\n",
       "      <th>male_agri_per</th>\n",
       "      <td>China</td>\n",
       "      <td>54.5</td>\n",
       "      <td>52.6</td>\n",
       "      <td>50.3</td>\n",
       "      <td>48.9</td>\n",
       "      <td>47.6</td>\n",
       "      <td>46.3</td>\n",
       "      <td>44.9</td>\n",
       "      <td>43.9</td>\n",
       "      <td>42.6</td>\n",
       "      <td>...</td>\n",
       "      <td>19.2</td>\n",
       "      <td>18.1</td>\n",
       "      <td>17.0</td>\n",
       "      <td>15.9</td>\n",
       "      <td>15.2</td>\n",
       "      <td>14.3</td>\n",
       "      <td>13.4</td>\n",
       "      <td>12.7</td>\n",
       "      <td>11.9</td>\n",
       "      <td>11.3</td>\n",
       "    </tr>\n",
       "  </tbody>\n",
       "</table>\n",
       "<p>1 rows × 33 columns</p>\n",
       "</div>"
      ],
      "text/plain": [
       "              country  1991  1992  1993  1994  1995  1996  1997  1998  1999  \\\n",
       "type                                                                          \n",
       "male_agri_per   China  54.5  52.6  50.3  48.9  47.6  46.3  44.9  43.9  42.6   \n",
       "\n",
       "               ...  2013  2014  2015  2016  2017  2018  2019  2020  2021  2022  \n",
       "type           ...                                                              \n",
       "male_agri_per  ...  19.2  18.1  17.0  15.9  15.2  14.3  13.4  12.7  11.9  11.3  \n",
       "\n",
       "[1 rows x 33 columns]"
      ]
     },
     "execution_count": 13,
     "metadata": {},
     "output_type": "execute_result"
    }
   ],
   "source": [
    "male_agri_per"
   ]
  },
  {
   "cell_type": "markdown",
   "metadata": {},
   "source": [
    "查看男性农业就业者占总男性就业人口比例的数据，可见数据从1991年开始，到2022年结束  \n",
    "数据源显示，2018年以后数据均为预测"
   ]
  },
  {
   "cell_type": "code",
   "execution_count": 14,
   "metadata": {},
   "outputs": [
    {
     "name": "stdout",
     "output_type": "stream",
     "text": [
      "<class 'pandas.core.frame.DataFrame'>\n",
      "Index: 1 entries, urban_p_total_per to urban_p_total_per\n",
      "Data columns (total 59 columns):\n",
      "country    1 non-null object\n",
      "1960       1 non-null float64\n",
      "1961       1 non-null float64\n",
      "1962       1 non-null float64\n",
      "1963       1 non-null float64\n",
      "1964       1 non-null float64\n",
      "1965       1 non-null float64\n",
      "1966       1 non-null float64\n",
      "1967       1 non-null float64\n",
      "1968       1 non-null float64\n",
      "1969       1 non-null float64\n",
      "1970       1 non-null float64\n",
      "1971       1 non-null float64\n",
      "1972       1 non-null float64\n",
      "1973       1 non-null float64\n",
      "1974       1 non-null float64\n",
      "1975       1 non-null float64\n",
      "1976       1 non-null float64\n",
      "1977       1 non-null float64\n",
      "1978       1 non-null float64\n",
      "1979       1 non-null float64\n",
      "1980       1 non-null float64\n",
      "1981       1 non-null float64\n",
      "1982       1 non-null float64\n",
      "1983       1 non-null float64\n",
      "1984       1 non-null float64\n",
      "1985       1 non-null float64\n",
      "1986       1 non-null float64\n",
      "1987       1 non-null float64\n",
      "1988       1 non-null float64\n",
      "1989       1 non-null float64\n",
      "1990       1 non-null float64\n",
      "1991       1 non-null float64\n",
      "1992       1 non-null float64\n",
      "1993       1 non-null float64\n",
      "1994       1 non-null float64\n",
      "1995       1 non-null float64\n",
      "1996       1 non-null float64\n",
      "1997       1 non-null float64\n",
      "1998       1 non-null float64\n",
      "1999       1 non-null float64\n",
      "2000       1 non-null float64\n",
      "2001       1 non-null float64\n",
      "2002       1 non-null float64\n",
      "2003       1 non-null float64\n",
      "2004       1 non-null float64\n",
      "2005       1 non-null float64\n",
      "2006       1 non-null float64\n",
      "2007       1 non-null float64\n",
      "2008       1 non-null float64\n",
      "2009       1 non-null float64\n",
      "2010       1 non-null float64\n",
      "2011       1 non-null float64\n",
      "2012       1 non-null float64\n",
      "2013       1 non-null float64\n",
      "2014       1 non-null float64\n",
      "2015       1 non-null float64\n",
      "2016       1 non-null float64\n",
      "2017       1 non-null float64\n",
      "dtypes: float64(58), object(1)\n",
      "memory usage: 480.0+ bytes\n"
     ]
    }
   ],
   "source": [
    "urban_p_total_per.info()"
   ]
  },
  {
   "cell_type": "markdown",
   "metadata": {},
   "source": [
    "城镇人口占总人口比例的数据描述，共有59列，从country列到2017列，其中country列数据类型为object，其他列数据类型为浮点数"
   ]
  },
  {
   "cell_type": "code",
   "execution_count": 15,
   "metadata": {},
   "outputs": [
    {
     "data": {
      "text/html": [
       "<div>\n",
       "<style scoped>\n",
       "    .dataframe tbody tr th:only-of-type {\n",
       "        vertical-align: middle;\n",
       "    }\n",
       "\n",
       "    .dataframe tbody tr th {\n",
       "        vertical-align: top;\n",
       "    }\n",
       "\n",
       "    .dataframe thead th {\n",
       "        text-align: right;\n",
       "    }\n",
       "</style>\n",
       "<table border=\"1\" class=\"dataframe\">\n",
       "  <thead>\n",
       "    <tr style=\"text-align: right;\">\n",
       "      <th></th>\n",
       "      <th>country</th>\n",
       "      <th>1960</th>\n",
       "      <th>1961</th>\n",
       "      <th>1962</th>\n",
       "      <th>1963</th>\n",
       "      <th>1964</th>\n",
       "      <th>1965</th>\n",
       "      <th>1966</th>\n",
       "      <th>1967</th>\n",
       "      <th>1968</th>\n",
       "      <th>...</th>\n",
       "      <th>2008</th>\n",
       "      <th>2009</th>\n",
       "      <th>2010</th>\n",
       "      <th>2011</th>\n",
       "      <th>2012</th>\n",
       "      <th>2013</th>\n",
       "      <th>2014</th>\n",
       "      <th>2015</th>\n",
       "      <th>2016</th>\n",
       "      <th>2017</th>\n",
       "    </tr>\n",
       "    <tr>\n",
       "      <th>type</th>\n",
       "      <th></th>\n",
       "      <th></th>\n",
       "      <th></th>\n",
       "      <th></th>\n",
       "      <th></th>\n",
       "      <th></th>\n",
       "      <th></th>\n",
       "      <th></th>\n",
       "      <th></th>\n",
       "      <th></th>\n",
       "      <th></th>\n",
       "      <th></th>\n",
       "      <th></th>\n",
       "      <th></th>\n",
       "      <th></th>\n",
       "      <th></th>\n",
       "      <th></th>\n",
       "      <th></th>\n",
       "      <th></th>\n",
       "      <th></th>\n",
       "      <th></th>\n",
       "    </tr>\n",
       "  </thead>\n",
       "  <tbody>\n",
       "    <tr>\n",
       "      <th>urban_p_total_per</th>\n",
       "      <td>China</td>\n",
       "      <td>16.2</td>\n",
       "      <td>16.7</td>\n",
       "      <td>17.2</td>\n",
       "      <td>17.8</td>\n",
       "      <td>18.3</td>\n",
       "      <td>18.1</td>\n",
       "      <td>17.9</td>\n",
       "      <td>17.8</td>\n",
       "      <td>17.7</td>\n",
       "      <td>...</td>\n",
       "      <td>46.5</td>\n",
       "      <td>47.9</td>\n",
       "      <td>49.2</td>\n",
       "      <td>50.5</td>\n",
       "      <td>51.8</td>\n",
       "      <td>53.0</td>\n",
       "      <td>54.3</td>\n",
       "      <td>55.5</td>\n",
       "      <td>56.7</td>\n",
       "      <td>58.0</td>\n",
       "    </tr>\n",
       "  </tbody>\n",
       "</table>\n",
       "<p>1 rows × 59 columns</p>\n",
       "</div>"
      ],
      "text/plain": [
       "                  country  1960  1961  1962  1963  1964  1965  1966  1967  \\\n",
       "type                                                                        \n",
       "urban_p_total_per   China  16.2  16.7  17.2  17.8  18.3  18.1  17.9  17.8   \n",
       "\n",
       "                   1968  ...  2008  2009  2010  2011  2012  2013  2014  2015  \\\n",
       "type                     ...                                                   \n",
       "urban_p_total_per  17.7  ...  46.5  47.9  49.2  50.5  51.8  53.0  54.3  55.5   \n",
       "\n",
       "                   2016  2017  \n",
       "type                           \n",
       "urban_p_total_per  56.7  58.0  \n",
       "\n",
       "[1 rows x 59 columns]"
      ]
     },
     "execution_count": 15,
     "metadata": {},
     "output_type": "execute_result"
    }
   ],
   "source": [
    "urban_p_total_per"
   ]
  },
  {
   "cell_type": "markdown",
   "metadata": {},
   "source": [
    "城镇人口占总人口比例的数据，可见数据从1960年开始，到2017年结束"
   ]
  },
  {
   "cell_type": "code",
   "execution_count": 16,
   "metadata": {},
   "outputs": [
    {
     "name": "stdout",
     "output_type": "stream",
     "text": [
      "<class 'pandas.core.frame.DataFrame'>\n",
      "Index: 1 entries, literacy_adult_per to literacy_adult_per\n",
      "Data columns (total 38 columns):\n",
      "country    1 non-null object\n",
      "1975       0 non-null float64\n",
      "1976       0 non-null float64\n",
      "1977       0 non-null float64\n",
      "1978       0 non-null float64\n",
      "1979       0 non-null float64\n",
      "1980       0 non-null float64\n",
      "1981       0 non-null float64\n",
      "1982       1 non-null float64\n",
      "1983       0 non-null float64\n",
      "1984       0 non-null float64\n",
      "1985       0 non-null float64\n",
      "1986       0 non-null float64\n",
      "1987       0 non-null float64\n",
      "1988       0 non-null float64\n",
      "1989       0 non-null float64\n",
      "1990       1 non-null float64\n",
      "1991       0 non-null float64\n",
      "1992       0 non-null float64\n",
      "1993       0 non-null float64\n",
      "1994       0 non-null float64\n",
      "1995       0 non-null float64\n",
      "1996       0 non-null float64\n",
      "1997       0 non-null float64\n",
      "1998       0 non-null float64\n",
      "1999       0 non-null float64\n",
      "2000       1 non-null float64\n",
      "2001       0 non-null float64\n",
      "2002       0 non-null float64\n",
      "2003       0 non-null float64\n",
      "2004       0 non-null float64\n",
      "2005       0 non-null float64\n",
      "2006       0 non-null float64\n",
      "2007       0 non-null float64\n",
      "2008       0 non-null float64\n",
      "2009       0 non-null float64\n",
      "2010       1 non-null float64\n",
      "2011       0 non-null float64\n",
      "dtypes: float64(37), object(1)\n",
      "memory usage: 312.0+ bytes\n"
     ]
    }
   ],
   "source": [
    "literacy_adult_per.info()"
   ]
  },
  {
   "cell_type": "markdown",
   "metadata": {},
   "source": [
    "成人（15周岁以上，含15周岁）识字率的数据描述，共有38列，从country列到2011列，其中country列数据类型为object，其他列数据类型为浮点数"
   ]
  },
  {
   "cell_type": "code",
   "execution_count": 17,
   "metadata": {},
   "outputs": [
    {
     "data": {
      "text/html": [
       "<div>\n",
       "<style scoped>\n",
       "    .dataframe tbody tr th:only-of-type {\n",
       "        vertical-align: middle;\n",
       "    }\n",
       "\n",
       "    .dataframe tbody tr th {\n",
       "        vertical-align: top;\n",
       "    }\n",
       "\n",
       "    .dataframe thead th {\n",
       "        text-align: right;\n",
       "    }\n",
       "</style>\n",
       "<table border=\"1\" class=\"dataframe\">\n",
       "  <thead>\n",
       "    <tr style=\"text-align: right;\">\n",
       "      <th></th>\n",
       "      <th>country</th>\n",
       "      <th>1975</th>\n",
       "      <th>1976</th>\n",
       "      <th>1977</th>\n",
       "      <th>1978</th>\n",
       "      <th>1979</th>\n",
       "      <th>1980</th>\n",
       "      <th>1981</th>\n",
       "      <th>1982</th>\n",
       "      <th>1983</th>\n",
       "      <th>...</th>\n",
       "      <th>2002</th>\n",
       "      <th>2003</th>\n",
       "      <th>2004</th>\n",
       "      <th>2005</th>\n",
       "      <th>2006</th>\n",
       "      <th>2007</th>\n",
       "      <th>2008</th>\n",
       "      <th>2009</th>\n",
       "      <th>2010</th>\n",
       "      <th>2011</th>\n",
       "    </tr>\n",
       "    <tr>\n",
       "      <th>type</th>\n",
       "      <th></th>\n",
       "      <th></th>\n",
       "      <th></th>\n",
       "      <th></th>\n",
       "      <th></th>\n",
       "      <th></th>\n",
       "      <th></th>\n",
       "      <th></th>\n",
       "      <th></th>\n",
       "      <th></th>\n",
       "      <th></th>\n",
       "      <th></th>\n",
       "      <th></th>\n",
       "      <th></th>\n",
       "      <th></th>\n",
       "      <th></th>\n",
       "      <th></th>\n",
       "      <th></th>\n",
       "      <th></th>\n",
       "      <th></th>\n",
       "      <th></th>\n",
       "    </tr>\n",
       "  </thead>\n",
       "  <tbody>\n",
       "    <tr>\n",
       "      <th>literacy_adult_per</th>\n",
       "      <td>China</td>\n",
       "      <td>NaN</td>\n",
       "      <td>NaN</td>\n",
       "      <td>NaN</td>\n",
       "      <td>NaN</td>\n",
       "      <td>NaN</td>\n",
       "      <td>NaN</td>\n",
       "      <td>NaN</td>\n",
       "      <td>65.5</td>\n",
       "      <td>NaN</td>\n",
       "      <td>...</td>\n",
       "      <td>NaN</td>\n",
       "      <td>NaN</td>\n",
       "      <td>NaN</td>\n",
       "      <td>NaN</td>\n",
       "      <td>NaN</td>\n",
       "      <td>NaN</td>\n",
       "      <td>NaN</td>\n",
       "      <td>NaN</td>\n",
       "      <td>95.1</td>\n",
       "      <td>NaN</td>\n",
       "    </tr>\n",
       "  </tbody>\n",
       "</table>\n",
       "<p>1 rows × 38 columns</p>\n",
       "</div>"
      ],
      "text/plain": [
       "                   country  1975  1976  1977  1978  1979  1980  1981  1982  \\\n",
       "type                                                                         \n",
       "literacy_adult_per   China   NaN   NaN   NaN   NaN   NaN   NaN   NaN  65.5   \n",
       "\n",
       "                    1983  ...  2002  2003  2004  2005  2006  2007  2008  2009  \\\n",
       "type                      ...                                                   \n",
       "literacy_adult_per   NaN  ...   NaN   NaN   NaN   NaN   NaN   NaN   NaN   NaN   \n",
       "\n",
       "                    2010  2011  \n",
       "type                            \n",
       "literacy_adult_per  95.1   NaN  \n",
       "\n",
       "[1 rows x 38 columns]"
      ]
     },
     "execution_count": 17,
     "metadata": {},
     "output_type": "execute_result"
    }
   ],
   "source": [
    "literacy_adult_per"
   ]
  },
  {
   "cell_type": "markdown",
   "metadata": {},
   "source": [
    "成人（15周岁以上，含15周岁）识字率的数据，可见数据从1982年开始，到2011年结束  \n",
    "其中，除1982年外，该数据集每10年统计一次数据"
   ]
  },
  {
   "cell_type": "markdown",
   "metadata": {},
   "source": [
    ">上述分析总结如下：  \n",
    "\n",
    "数据集名称 | 起始年份 | 结束年份 | 数据描述 |\n",
    "---------- | -------- | -------- | -------- |\n",
    "gdp_year | 1801 | 2013 | GDP年度总增长率 |\n",
    "gdp_per_cap | 1960 | 2017 | 人均国内生产总值 |\n",
    "agri_total_per |1970|2017 | 农业就业者占总人口比例 |\n",
    "female_agri_per | 1991 | 2022 | 女性农业就业者占女性总人口比例 |\n",
    "male_agri_per | 1991 | 2022 | 男性农业就业者占男性总人口比例 |\n",
    "urban_p_total_per | 1960 | 2017 | 城镇人口占总人口比例 |\n",
    "literacy_adult_per | 1982 | 2011 | 成人识字率（15周岁以上，含15周岁 |"
   ]
  },
  {
   "cell_type": "markdown",
   "metadata": {},
   "source": [
    "### 数据清理"
   ]
  },
  {
   "cell_type": "code",
   "execution_count": 18,
   "metadata": {},
   "outputs": [],
   "source": [
    "def data_clean(df):\n",
    "    df_nan = df.isnull().any().sum()\n",
    "    df_dup = df.duplicated().sum()\n",
    "    return '该数据集共有缺失值{}，重复值{}。'.format(df_nan, df_dup)"
   ]
  },
  {
   "cell_type": "code",
   "execution_count": 19,
   "metadata": {},
   "outputs": [
    {
     "data": {
      "text/plain": [
       "'该数据集共有缺失值0，重复值0。'"
      ]
     },
     "execution_count": 19,
     "metadata": {},
     "output_type": "execute_result"
    }
   ],
   "source": [
    "data_clean(gdp_year)"
   ]
  },
  {
   "cell_type": "code",
   "execution_count": 20,
   "metadata": {},
   "outputs": [
    {
     "data": {
      "text/plain": [
       "'该数据集共有缺失值0，重复值0。'"
      ]
     },
     "execution_count": 20,
     "metadata": {},
     "output_type": "execute_result"
    }
   ],
   "source": [
    "data_clean(gdp_per_cap)"
   ]
  },
  {
   "cell_type": "code",
   "execution_count": 21,
   "metadata": {},
   "outputs": [
    {
     "data": {
      "text/plain": [
       "'该数据集共有缺失值6，重复值0。'"
      ]
     },
     "execution_count": 21,
     "metadata": {},
     "output_type": "execute_result"
    }
   ],
   "source": [
    "data_clean(agri_total_per)"
   ]
  },
  {
   "cell_type": "code",
   "execution_count": 22,
   "metadata": {},
   "outputs": [
    {
     "data": {
      "text/plain": [
       "'该数据集共有缺失值0，重复值0。'"
      ]
     },
     "execution_count": 22,
     "metadata": {},
     "output_type": "execute_result"
    }
   ],
   "source": [
    "data_clean(female_agri_per)"
   ]
  },
  {
   "cell_type": "code",
   "execution_count": 23,
   "metadata": {},
   "outputs": [
    {
     "data": {
      "text/plain": [
       "'该数据集共有缺失值0，重复值0。'"
      ]
     },
     "execution_count": 23,
     "metadata": {},
     "output_type": "execute_result"
    }
   ],
   "source": [
    "data_clean(male_agri_per)"
   ]
  },
  {
   "cell_type": "code",
   "execution_count": 24,
   "metadata": {},
   "outputs": [
    {
     "data": {
      "text/plain": [
       "'该数据集共有缺失值0，重复值0。'"
      ]
     },
     "execution_count": 24,
     "metadata": {},
     "output_type": "execute_result"
    }
   ],
   "source": [
    "data_clean(urban_p_total_per)"
   ]
  },
  {
   "cell_type": "code",
   "execution_count": 25,
   "metadata": {},
   "outputs": [
    {
     "data": {
      "text/plain": [
       "'该数据集共有缺失值33，重复值0。'"
      ]
     },
     "execution_count": 25,
     "metadata": {},
     "output_type": "execute_result"
    }
   ],
   "source": [
    "data_clean(literacy_adult_per)"
   ]
  },
  {
   "cell_type": "code",
   "execution_count": 26,
   "metadata": {
    "scrolled": true
   },
   "outputs": [
    {
     "data": {
      "text/html": [
       "<div>\n",
       "<style scoped>\n",
       "    .dataframe tbody tr th:only-of-type {\n",
       "        vertical-align: middle;\n",
       "    }\n",
       "\n",
       "    .dataframe tbody tr th {\n",
       "        vertical-align: top;\n",
       "    }\n",
       "\n",
       "    .dataframe thead th {\n",
       "        text-align: right;\n",
       "    }\n",
       "</style>\n",
       "<table border=\"1\" class=\"dataframe\">\n",
       "  <thead>\n",
       "    <tr style=\"text-align: right;\">\n",
       "      <th></th>\n",
       "      <th>country</th>\n",
       "      <th>1970</th>\n",
       "      <th>1971</th>\n",
       "      <th>1972</th>\n",
       "      <th>1973</th>\n",
       "      <th>1974</th>\n",
       "      <th>1975</th>\n",
       "      <th>1976</th>\n",
       "      <th>1977</th>\n",
       "      <th>1978</th>\n",
       "      <th>...</th>\n",
       "      <th>2008</th>\n",
       "      <th>2009</th>\n",
       "      <th>2010</th>\n",
       "      <th>2011</th>\n",
       "      <th>2012</th>\n",
       "      <th>2013</th>\n",
       "      <th>2014</th>\n",
       "      <th>2015</th>\n",
       "      <th>2016</th>\n",
       "      <th>2017</th>\n",
       "    </tr>\n",
       "    <tr>\n",
       "      <th>type</th>\n",
       "      <th></th>\n",
       "      <th></th>\n",
       "      <th></th>\n",
       "      <th></th>\n",
       "      <th></th>\n",
       "      <th></th>\n",
       "      <th></th>\n",
       "      <th></th>\n",
       "      <th></th>\n",
       "      <th></th>\n",
       "      <th></th>\n",
       "      <th></th>\n",
       "      <th></th>\n",
       "      <th></th>\n",
       "      <th></th>\n",
       "      <th></th>\n",
       "      <th></th>\n",
       "      <th></th>\n",
       "      <th></th>\n",
       "      <th></th>\n",
       "      <th></th>\n",
       "    </tr>\n",
       "  </thead>\n",
       "  <tbody>\n",
       "    <tr>\n",
       "      <th>agri_total_per</th>\n",
       "      <td>False</td>\n",
       "      <td>False</td>\n",
       "      <td>True</td>\n",
       "      <td>True</td>\n",
       "      <td>True</td>\n",
       "      <td>True</td>\n",
       "      <td>False</td>\n",
       "      <td>True</td>\n",
       "      <td>True</td>\n",
       "      <td>False</td>\n",
       "      <td>...</td>\n",
       "      <td>False</td>\n",
       "      <td>False</td>\n",
       "      <td>False</td>\n",
       "      <td>False</td>\n",
       "      <td>False</td>\n",
       "      <td>False</td>\n",
       "      <td>False</td>\n",
       "      <td>False</td>\n",
       "      <td>False</td>\n",
       "      <td>False</td>\n",
       "    </tr>\n",
       "  </tbody>\n",
       "</table>\n",
       "<p>1 rows × 49 columns</p>\n",
       "</div>"
      ],
      "text/plain": [
       "                country   1970  1971  1972  1973  1974   1975  1976  1977  \\\n",
       "type                                                                        \n",
       "agri_total_per    False  False  True  True  True  True  False  True  True   \n",
       "\n",
       "                 1978  ...   2008   2009   2010   2011   2012   2013   2014  \\\n",
       "type                   ...                                                    \n",
       "agri_total_per  False  ...  False  False  False  False  False  False  False   \n",
       "\n",
       "                 2015   2016   2017  \n",
       "type                                 \n",
       "agri_total_per  False  False  False  \n",
       "\n",
       "[1 rows x 49 columns]"
      ]
     },
     "execution_count": 26,
     "metadata": {},
     "output_type": "execute_result"
    }
   ],
   "source": [
    "agri_total_per.isnull()"
   ]
  },
  {
   "cell_type": "markdown",
   "metadata": {},
   "source": [
    "从上述结果得出，仅agri_total_per和literacy_adult_per存在缺失值，所有数据集都不存在重复值。  \n",
    "在1.3.2中，我们得知literacy_adule_per仅5个列存在对应的值，分别是country(object)，1982(float)，1990(float)，2000(float)，2010(float)，因此缺失值33基于该数据集10年统计一次的特征，是正常现象。  \n",
    "agri_total_per中出现缺失值的年份分别是1971年-1974年，1976年和1977年。  \n",
    "由于缺失值距离数据起始点较近，且该年份受政治事件及自然灾害影响较大，因此建议不清洗数据，并将1978年设为起始点。\n",
    "\n",
    "其他数据源本身较为完整，因此在数据清洗中也无需进行过多操作。"
   ]
  },
  {
   "cell_type": "code",
   "execution_count": 27,
   "metadata": {},
   "outputs": [],
   "source": [
    "#使用drop函数，删除1977以前的列\n",
    "agri_total_per.drop(['1970','1971','1972','1973','1974','1975','1976','1977'], axis=1, inplace=True)"
   ]
  },
  {
   "cell_type": "code",
   "execution_count": 28,
   "metadata": {},
   "outputs": [
    {
     "data": {
      "text/plain": [
       "'该数据集共有缺失值0，重复值0。'"
      ]
     },
     "execution_count": 28,
     "metadata": {},
     "output_type": "execute_result"
    }
   ],
   "source": [
    "#检查agri_agri_total_per的缺失值与重复值\n",
    "data_clean(agri_total_per)"
   ]
  },
  {
   "cell_type": "markdown",
   "metadata": {},
   "source": [
    "<a id='eda'></a>\n",
    "## 探索性数据分析\n",
    "\n",
    "###  问题1：GDP年度总增长与人均国内生产总值是否呈正相关，与此同时，成人识字率产生了怎样的变化？"
   ]
  },
  {
   "cell_type": "markdown",
   "metadata": {},
   "source": [
    "合并数据集"
   ]
  },
  {
   "cell_type": "code",
   "execution_count": 29,
   "metadata": {},
   "outputs": [],
   "source": [
    "data_all = data_all = pd.concat([gdp_year, gdp_per_cap, agri_total_per, \n",
    "           female_agri_per, male_agri_per, urban_p_total_per,\n",
    "          literacy_adult_per], sort=True)"
   ]
  },
  {
   "cell_type": "code",
   "execution_count": 30,
   "metadata": {},
   "outputs": [],
   "source": [
    "data_all.drop(columns='country', inplace=True)"
   ]
  },
  {
   "cell_type": "code",
   "execution_count": 31,
   "metadata": {},
   "outputs": [
    {
     "name": "stdout",
     "output_type": "stream",
     "text": [
      "<class 'pandas.core.frame.DataFrame'>\n",
      "Index: 7 entries, gdp_year to literacy_adult_per\n",
      "Columns: 222 entries, 1801 to 2022\n",
      "dtypes: float64(222)\n",
      "memory usage: 12.2+ KB\n"
     ]
    }
   ],
   "source": [
    "data_all.info()"
   ]
  },
  {
   "cell_type": "markdown",
   "metadata": {},
   "source": [
    "提取三个数据“年份”对应的数据"
   ]
  },
  {
   "cell_type": "code",
   "execution_count": 32,
   "metadata": {},
   "outputs": [],
   "source": [
    "gdp_year_data = data_all.iloc[0]\n",
    "gdp_per_cap_data = data_all.iloc[1]\n",
    "literacy_adult_per_data = data_all.iloc[-1]"
   ]
  },
  {
   "cell_type": "code",
   "execution_count": 33,
   "metadata": {},
   "outputs": [],
   "source": [
    "df1 = pd.DataFrame({'gdp_year': gdp_year_data, 'gdp_per_cap': gdp_per_cap_data, 'literacy_adult_per': literacy_adult_per_data})"
   ]
  },
  {
   "cell_type": "code",
   "execution_count": 34,
   "metadata": {
    "scrolled": true
   },
   "outputs": [
    {
     "data": {
      "text/plain": [
       "Text(0, 0.5, 'Data')"
      ]
     },
     "execution_count": 34,
     "metadata": {},
     "output_type": "execute_result"
    },
    {
     "data": {
      "image/png": "[encoded data removed]",
      "text/plain": [
       "<Figure size 432x288 with 1 Axes>"
      ]
     },
     "metadata": {
      "needs_background": "light"
     },
     "output_type": "display_data"
    }
   ],
   "source": [
    "df1.plot(kind='line');\n",
    "plt.title('Comparation of GDP year growth, GDP per capita and literacy rates(adults)')\n",
    "plt.xlabel('Years')\n",
    "plt.ylabel('Data')"
   ]
  },
  {
   "cell_type": "markdown",
   "metadata": {},
   "source": [
    "由于数据单位不一致，数值范围也各不相同，因此，想要探究GDP年度总增长与人均国内生产总值是否呈正相关，需要单独查看各个图表"
   ]
  },
  {
   "cell_type": "code",
   "execution_count": 35,
   "metadata": {},
   "outputs": [
    {
     "data": {
      "text/plain": [
       "Text(0, 0.5, 'Percents')"
      ]
     },
     "execution_count": 35,
     "metadata": {},
     "output_type": "execute_result"
    },
    {
     "data": {
      "image/png": "[encoded data removed]",
      "text/plain": [
       "<Figure size 432x288 with 1 Axes>"
      ]
     },
     "metadata": {
      "needs_background": "light"
     },
     "output_type": "display_data"
    }
   ],
   "source": [
    "gdp_year_data.plot(kind='line', title='GDP year growth');\n",
    "plt.xlabel('Years')\n",
    "plt.ylabel('Percents')"
   ]
  },
  {
   "cell_type": "markdown",
   "metadata": {},
   "source": [
    "自1801年到2013年，GDP年度总增长变化如上。  \n",
    "由于人均国内生产总值的数据范围是1960年-2017年，为方便对比，将GDP年度总增长数据调整为以1960年为起始点。"
   ]
  },
  {
   "cell_type": "code",
   "execution_count": 36,
   "metadata": {},
   "outputs": [
    {
     "data": {
      "text/plain": [
       "Text(0, 0.5, 'Percents')"
      ]
     },
     "execution_count": 36,
     "metadata": {},
     "output_type": "execute_result"
    },
    {
     "data": {
      "image/png": "[encoded data removed]",
      "text/plain": [
       "<Figure size 432x288 with 1 Axes>"
      ]
     },
     "metadata": {
      "needs_background": "light"
     },
     "output_type": "display_data"
    }
   ],
   "source": [
    "gdp_year_data = gdp_year_data['1960':'2022']\n",
    "gdp_year_data.plot(kind='line', title='GDP year growth');\n",
    "plt.xlabel('Years')\n",
    "plt.ylabel('Percents')"
   ]
  },
  {
   "cell_type": "markdown",
   "metadata": {},
   "source": [
    "从上述图标中可见，GDP年度总增长变化浮动较大，下面使用移动平均数来查看总体趋势。  \n",
    "如下图，粒度选择10，可见自1960年后，GDP年度总增长趋势为整体上升。"
   ]
  },
  {
   "cell_type": "code",
   "execution_count": 37,
   "metadata": {},
   "outputs": [
    {
     "data": {
      "text/plain": [
       "Text(0, 0.5, 'Percents')"
      ]
     },
     "execution_count": 37,
     "metadata": {},
     "output_type": "execute_result"
    },
    {
     "data": {
      "image/png": "[encoded data removed]",
      "text/plain": [
       "<Figure size 432x288 with 1 Axes>"
      ]
     },
     "metadata": {
      "needs_background": "light"
     },
     "output_type": "display_data"
    }
   ],
   "source": [
    "gdp_year_data_mean_10 =gdp_year_data.rolling(window=10).mean()\n",
    "gdp_year_data_mean_10.plot(kind='line', title='GDP year growth');\n",
    "plt.xlabel('Years')\n",
    "plt.ylabel('Percents')"
   ]
  },
  {
   "cell_type": "code",
   "execution_count": 38,
   "metadata": {},
   "outputs": [
    {
     "data": {
      "text/plain": [
       "Text(0, 0.5, 'Dollars')"
      ]
     },
     "execution_count": 38,
     "metadata": {},
     "output_type": "execute_result"
    },
    {
     "data": {
      "image/png": "[encoded data removed]",
      "text/plain": [
       "<Figure size 432x288 with 1 Axes>"
      ]
     },
     "metadata": {
      "needs_background": "light"
     },
     "output_type": "display_data"
    }
   ],
   "source": [
    "gdp_per_cap_data = gdp_per_cap_data['1960':'2022']\n",
    "gdp_per_cap_data.plot(kind='line', title='GDP per capita');\n",
    "plt.xlabel('Years')\n",
    "plt.ylabel('Dollars')"
   ]
  },
  {
   "cell_type": "markdown",
   "metadata": {},
   "source": [
    ">如上图所示，人均国内生产总值变化趋势为整体上升"
   ]
  },
  {
   "cell_type": "code",
   "execution_count": 39,
   "metadata": {},
   "outputs": [
    {
     "data": {
      "text/plain": [
       "Text(0, 0.5, 'Percent')"
      ]
     },
     "execution_count": 39,
     "metadata": {},
     "output_type": "execute_result"
    },
    {
     "data": {
      "image/png": "[encoded data removed]",
      "text/plain": [
       "<Figure size 432x288 with 1 Axes>"
      ]
     },
     "metadata": {
      "needs_background": "light"
     },
     "output_type": "display_data"
    }
   ],
   "source": [
    "literacy_adult_per_data = literacy_adult_per_data.dropna()\n",
    "literacy_adult_per_data.plot(kind='bar', title='Literacy rates(adult)');\n",
    "plt.xlabel('Years')\n",
    "plt.ylabel('Percent')"
   ]
  },
  {
   "cell_type": "markdown",
   "metadata": {},
   "source": [
    "自1982年起，根据数据显示（每10年统计一次），成人识字率也呈上升趋势。"
   ]
  },
  {
   "cell_type": "markdown",
   "metadata": {},
   "source": [
    "### 问题2：城镇人口占总人口比例变化如何？农业就业人口比例是否与城镇人口变化呈相关关系？于此同时，男性农业就业人口和女性农业就业人口又产生了怎样的变化？"
   ]
  },
  {
   "cell_type": "markdown",
   "metadata": {},
   "source": [
    "提取四个数据“年份”对应的数据"
   ]
  },
  {
   "cell_type": "code",
   "execution_count": 40,
   "metadata": {},
   "outputs": [],
   "source": [
    "urban_p_total_per_data = data_all.iloc[-2]\n",
    "agri_total_per_data = data_all.iloc[2]\n",
    "female_agri_per_data = data_all.iloc[3]\n",
    "male_agri_per_data = data_all.iloc[4]"
   ]
  },
  {
   "cell_type": "markdown",
   "metadata": {},
   "source": [
    "合并数据集"
   ]
  },
  {
   "cell_type": "code",
   "execution_count": 41,
   "metadata": {},
   "outputs": [],
   "source": [
    "df2 = pd.DataFrame({'urban_p_total_per': urban_p_total_per_data, 'agri_total_per': agri_total_per_data,\n",
    "                  'female_agri_per': female_agri_per_data, 'male_agri_per': male_agri_per_data})"
   ]
  },
  {
   "cell_type": "markdown",
   "metadata": {},
   "source": [
    "由于四个数据集起始点最早于1960年，且四个数据集的数据单位都为百分比（%），接下来只需对df2的年份进行处理，即可通过直接对比得出结果"
   ]
  },
  {
   "cell_type": "code",
   "execution_count": 42,
   "metadata": {},
   "outputs": [
    {
     "data": {
      "text/plain": [
       "Text(0, 0.5, 'Percent')"
      ]
     },
     "execution_count": 42,
     "metadata": {},
     "output_type": "execute_result"
    },
    {
     "data": {
      "image/png": "[encoded data removed]",
      "text/plain": [
       "<Figure size 432x288 with 1 Axes>"
      ]
     },
     "metadata": {
      "needs_background": "light"
     },
     "output_type": "display_data"
    }
   ],
   "source": [
    "df2 = df2.loc['1950': '2030']\n",
    "df2.plot(kind='line', title='Comparation of Urban population percentage, agriculture workers percentage, female and male agricultrue worker percentage');\n",
    "plt.xlabel('Years')\n",
    "plt.ylabel('Percent')"
   ]
  },
  {
   "cell_type": "code",
   "execution_count": 43,
   "metadata": {},
   "outputs": [
    {
     "data": {
      "text/plain": [
       "Text(0, 0.5, 'Percent')"
      ]
     },
     "execution_count": 43,
     "metadata": {},
     "output_type": "execute_result"
    },
    {
     "data": {
      "image/png": "[encoded data removed]",
      "text/plain": [
       "<Figure size 432x288 with 1 Axes>"
      ]
     },
     "metadata": {
      "needs_background": "light"
     },
     "output_type": "display_data"
    }
   ],
   "source": [
    "urban_p_total_per_data.loc['1963': '1980'].plot(kind='line',title='Urban polulation total percentage');\n",
    "plt.xlabel('Years')\n",
    "plt.ylabel('Percent')"
   ]
  },
  {
   "cell_type": "markdown",
   "metadata": {},
   "source": [
    "<a id='conclusions'></a>\n",
    "## 结论\n",
    "### 问题1：GDP年度总增长与人均国内生产总值是否呈正相关，与此同时，成人识字率产生了怎样的变化？\n",
    "**回答**：从上面分析中，可以得出GDP年度总增长与人口国内生产总值整体都是整体上升，但GDP年度总增长波动较大，二者并非严格的正相关关系。  \n",
    "与此同时，在1982年-2010年的将近30年终，成人识字率也得到了显著提高（虽然数据源仅又5个值，也即每10年记录一次）。\n",
    "\n",
    "### 问题2：城镇人口占总人口比例变化如何？农业就业人口比例是否与城镇人口变化呈相关关系？与此同时，男性农业就业人口和女性农业就业人口又产生了怎样的变化？\n",
    "**回答**：城镇人口占总人口比例整体上升，但1963年至1972年呈现明显下降，随后又稳步上升；从整体上看，农业就业人口比例与城镇人口比例呈负相关关系，但在1980，1990，2000年，农业就业人口也出现过短暂的上升；自1990年起，随着城镇人口的上升，男性农业就业人口及女性农业就业人口出现了显著下降。\n",
    "\n",
    "### 局限性：  \n",
    "1. 源数据集的起始年份并非完全对称，如GDP年度总增长率包含了1801年-2013年的数据，而其他数据集则只从20世纪后半叶开始，因此想要探索19世纪的情况缺乏了相应的数据。\n",
    "2. 女性农业就业者及男性农业就业者数据仅从1991年开始，此时中国城市化进行已在进行中，因此难以从数据中探索出不一样的回答。\n",
    "3. 成人识字率也有着上述相类似情况，数据源自1982年开始，仅10年统计一次，很难从中长时间的、细节性的变化。"
   ]
  },
  {
   "cell_type": "code",
   "execution_count": 44,
   "metadata": {},
   "outputs": [
    {
     "data": {
      "text/plain": [
       "4294967295"
      ]
     },
     "execution_count": 44,
     "metadata": {},
     "output_type": "execute_result"
    }
   ],
   "source": [
    "from subprocess import call\n",
    "call(['python', '-m', 'nbconvert', 'Investigate_a_Dataset.ipynb'])"
   ]
  }
 ],
 "metadata": {
  "kernelspec": {
   "display_name": "Python 3",
   "language": "python",
   "name": "python3"
  },
  "language_info": {
   "codemirror_mode": {
    "name": "ipython",
    "version": 3
   },
   "file_extension": ".py",
   "mimetype": "text/x-python",
   "name": "python",
   "nbconvert_exporter": "python",
   "pygments_lexer": "ipython3",
   "version": "3.7.2"
  },
  "toc": {
   "base_numbering": 1,
   "nav_menu": {},
   "number_sections": true,
   "sideBar": true,
   "skip_h1_title": false,
   "title_cell": "Table of Contents",
   "title_sidebar": "Contents",
   "toc_cell": false,
   "toc_position": {},
   "toc_section_display": true,
   "toc_window_display": false
  }
 },
 "nbformat": 4,
 "nbformat_minor": 2
}
